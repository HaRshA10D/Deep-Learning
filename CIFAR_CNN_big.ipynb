{
 "cells": [
  {
   "cell_type": "code",
   "execution_count": 1,
   "metadata": {},
   "outputs": [
    {
     "name": "stderr",
     "output_type": "stream",
     "text": [
      "Using TensorFlow backend.\n"
     ]
    }
   ],
   "source": [
    "from keras.datasets import cifar10\n",
    "\n",
    "(x_train,y_train),(x_test,y_test) = cifar10.load_data()"
   ]
  },
  {
   "cell_type": "code",
   "execution_count": 2,
   "metadata": {},
   "outputs": [
    {
     "data": {
      "text/plain": [
       "array([0, 1, 2, 3, 4, 5, 6, 7, 8, 9], dtype=uint8)"
      ]
     },
     "execution_count": 2,
     "metadata": {},
     "output_type": "execute_result"
    }
   ],
   "source": [
    "import numpy as np\n",
    "np.unique(y_train)"
   ]
  },
  {
   "cell_type": "code",
   "execution_count": 3,
   "metadata": {
    "collapsed": true
   },
   "outputs": [],
   "source": [
    "x_train = x_train.astype('float32')\n",
    "x_test = x_test.astype('float32')"
   ]
  },
  {
   "cell_type": "code",
   "execution_count": 4,
   "metadata": {
    "collapsed": true
   },
   "outputs": [],
   "source": [
    "x_train = x_train/255\n",
    "x_test = x_test/255"
   ]
  },
  {
   "cell_type": "code",
   "execution_count": 5,
   "metadata": {
    "collapsed": true
   },
   "outputs": [],
   "source": [
    "from keras.utils import np_utils\n",
    "y_train = np_utils.to_categorical(y_train)\n",
    "y_test = np_utils.to_categorical(y_test)"
   ]
  },
  {
   "cell_type": "code",
   "execution_count": 6,
   "metadata": {
    "collapsed": true
   },
   "outputs": [],
   "source": [
    "from keras.models import Sequential\n",
    "from keras.layers import Activation, Dropout, Dense, Flatten, Conv2D, MaxPooling2D"
   ]
  },
  {
   "cell_type": "code",
   "execution_count": 7,
   "metadata": {
    "collapsed": true
   },
   "outputs": [],
   "source": [
    "def make_model(num_classes):\n",
    "    model = Sequential()\n",
    "    model.add(Conv2D(filters=32,kernel_size=(3,3),input_shape=(32,32,3),activation='relu'))\n",
    "    model.add(Dropout(0.2))\n",
    "    model.add(Conv2D(filters=64,kernel_size=(3,3),activation='relu'))\n",
    "    model.add(MaxPooling2D(pool_size=(2,2)))\n",
    "    model.add(Conv2D(filters=64,kernel_size=(3,3),activation='relu'))\n",
    "    model.add(Dropout(0.2))\n",
    "    model.add(Conv2D(filters=64,kernel_size=(3,3),activation='relu'))\n",
    "    model.add(MaxPooling2D(pool_size=(2,2)))\n",
    "    model.add(Conv2D(filters=128,kernel_size=(3,3),activation='relu'))\n",
    "    model.add(Dropout(0.2))\n",
    "    model.add(Conv2D(filters=128,kernel_size=(3,3),activation='relu'))\n",
    "    model.add(Flatten())\n",
    "    model.add(Dense(units=1024,activation='tanh'))\n",
    "    model.add(Dropout(0.3))\n",
    "    model.add(Dense(units=512,activation='relu'))\n",
    "    model.add(Dense(units=num_classes,activation='softmax'))\n",
    "    model.compile(optimizer='sgd',loss='categorical_crossentropy',metrics=['accuracy'])\n",
    "    return model"
   ]
  },
  {
   "cell_type": "code",
   "execution_count": 8,
   "metadata": {
    "collapsed": true
   },
   "outputs": [],
   "source": [
    "now_model = make_model(y_test.shape[1])"
   ]
  },
  {
   "cell_type": "code",
   "execution_count": 9,
   "metadata": {},
   "outputs": [
    {
     "name": "stdout",
     "output_type": "stream",
     "text": [
      "Train on 10000 samples, validate on 10000 samples\n",
      "Epoch 1/20\n",
      "10000/10000 [==============================] - 34s - loss: 2.3019 - acc: 0.0997 - val_loss: 2.3009 - val_acc: 0.1202\n",
      "Epoch 2/20\n",
      "10000/10000 [==============================] - 28s - loss: 2.2971 - acc: 0.1152 - val_loss: 2.2937 - val_acc: 0.1802\n",
      "Epoch 3/20\n",
      "10000/10000 [==============================] - 28s - loss: 2.2668 - acc: 0.1352 - val_loss: 2.2297 - val_acc: 0.2233\n",
      "Epoch 4/20\n",
      "10000/10000 [==============================] - 28s - loss: 2.1532 - acc: 0.2042 - val_loss: 2.1847 - val_acc: 0.2006\n",
      "Epoch 5/20\n",
      "10000/10000 [==============================] - 28s - loss: 2.0693 - acc: 0.2380 - val_loss: 2.0186 - val_acc: 0.2596\n",
      "Epoch 6/20\n",
      "10000/10000 [==============================] - 28s - loss: 2.0243 - acc: 0.2552 - val_loss: 2.0285 - val_acc: 0.2602\n",
      "Epoch 7/20\n",
      "10000/10000 [==============================] - 28s - loss: 1.9850 - acc: 0.2751 - val_loss: 1.9667 - val_acc: 0.2726\n",
      "Epoch 8/20\n",
      "10000/10000 [==============================] - 28s - loss: 1.9383 - acc: 0.2906 - val_loss: 1.8873 - val_acc: 0.3158\n",
      "Epoch 9/20\n",
      "10000/10000 [==============================] - 28s - loss: 1.8739 - acc: 0.3159 - val_loss: 1.8863 - val_acc: 0.3156\n",
      "Epoch 10/20\n",
      "10000/10000 [==============================] - 28s - loss: 1.8271 - acc: 0.3325 - val_loss: 1.7762 - val_acc: 0.3508\n",
      "Epoch 11/20\n",
      "10000/10000 [==============================] - 28s - loss: 1.7698 - acc: 0.3546 - val_loss: 1.7186 - val_acc: 0.3830\n",
      "Epoch 12/20\n",
      "10000/10000 [==============================] - 28s - loss: 1.7346 - acc: 0.3658 - val_loss: 1.7747 - val_acc: 0.3669\n",
      "Epoch 13/20\n",
      "10000/10000 [==============================] - 28s - loss: 1.6925 - acc: 0.3805 - val_loss: 1.6876 - val_acc: 0.3932\n",
      "Epoch 14/20\n",
      "10000/10000 [==============================] - 28s - loss: 1.6558 - acc: 0.3917 - val_loss: 1.7303 - val_acc: 0.3746\n",
      "Epoch 15/20\n",
      "10000/10000 [==============================] - 28s - loss: 1.6242 - acc: 0.4069 - val_loss: 1.6262 - val_acc: 0.4132\n",
      "Epoch 16/20\n",
      "10000/10000 [==============================] - 28s - loss: 1.5894 - acc: 0.4125 - val_loss: 1.6095 - val_acc: 0.4137\n",
      "Epoch 17/20\n",
      "10000/10000 [==============================] - 28s - loss: 1.5606 - acc: 0.4245 - val_loss: 1.5699 - val_acc: 0.4422\n",
      "Epoch 18/20\n",
      "10000/10000 [==============================] - 28s - loss: 1.5387 - acc: 0.4360 - val_loss: 1.5743 - val_acc: 0.4379\n",
      "Epoch 19/20\n",
      "10000/10000 [==============================] - 27s - loss: 1.5107 - acc: 0.4509 - val_loss: 1.4511 - val_acc: 0.4785\n",
      "Epoch 20/20\n",
      "10000/10000 [==============================] - 28s - loss: 1.4879 - acc: 0.4586 - val_loss: 1.4987 - val_acc: 0.4668\n"
     ]
    }
   ],
   "source": [
    "history = now_model.fit(x_test,y_test,validation_data=(x_test,y_test),epochs=20,batch_size=32)"
   ]
  },
  {
   "cell_type": "code",
   "execution_count": 10,
   "metadata": {},
   "outputs": [
    {
     "name": "stdout",
     "output_type": "stream",
     "text": [
      "Accuracy: 46.68%\n"
     ]
    }
   ],
   "source": [
    "scores = now_model.evaluate(x_test, y_test, verbose=0)\n",
    "print(\"Accuracy: %.2f%%\" % (scores[1]*100))"
   ]
  },
  {
   "cell_type": "code",
   "execution_count": 11,
   "metadata": {},
   "outputs": [
    {
     "data": {
      "text/plain": [
       "array([1], dtype=int64)"
      ]
     },
     "execution_count": 11,
     "metadata": {},
     "output_type": "execute_result"
    }
   ],
   "source": [
    "import cv2\n",
    "x = np.array([cv2.imread('dog4.png')])\n",
    "result = now_model.predict(x)\n",
    "np.argmax(result,axis=1)"
   ]
  },
  {
   "cell_type": "code",
   "execution_count": 12,
   "metadata": {},
   "outputs": [
    {
     "data": {
      "image/png": "[encoded data removed]",
      "text/plain": [
       "<matplotlib.figure.Figure at 0x67c7a87c18>"
      ]
     },
     "metadata": {},
     "output_type": "display_data"
    },
    {
     "data": {
      "image/png": "[encoded data removed]",
      "text/plain": [
       "<matplotlib.figure.Figure at 0x6849192f28>"
      ]
     },
     "metadata": {},
     "output_type": "display_data"
    }
   ],
   "source": [
    "import matplotlib.pyplot as plt\n",
    "plt.plot(history.history['acc'])\n",
    "plt.plot(history.history['val_acc'])\n",
    "plt.title('model accuracy')\n",
    "plt.ylabel('accuracy')\n",
    "plt.xlabel('epoch')\n",
    "plt.legend(['train', 'test'], loc='upper left')\n",
    "plt.show()\n",
    "# summarize history for loss\n",
    "plt.plot(history.history['loss'])\n",
    "plt.plot(history.history['val_loss'])\n",
    "plt.title('model loss')\n",
    "plt.ylabel('loss')\n",
    "plt.xlabel('epoch')\n",
    "plt.legend(['train', 'test'], loc='upper left')\n",
    "plt.show()"
   ]
  },
  {
   "cell_type": "code",
   "execution_count": null,
   "metadata": {
    "collapsed": true
   },
   "outputs": [],
   "source": []
  }
 ],
 "metadata": {
  "kernelspec": {
   "display_name": "Python 3",
   "language": "python",
   "name": "python3"
  },
  "language_info": {
   "codemirror_mode": {
    "name": "ipython",
    "version": 3
   },
   "file_extension": ".py",
   "mimetype": "text/x-python",
   "name": "python",
   "nbconvert_exporter": "python",
   "pygments_lexer": "ipython3",
   "version": "3.5.3"
  }
 },
 "nbformat": 4,
 "nbformat_minor": 2
}
