{
 "cells": [
  {
   "cell_type": "code",
   "execution_count": 1,
   "metadata": {},
   "outputs": [
    {
     "name": "stderr",
     "output_type": "stream",
     "text": [
      "Using TensorFlow backend.\n"
     ]
    }
   ],
   "source": [
    "from keras.datasets import cifar10\n",
    "\n",
    "(x_train,y_train),(x_test,y_test) = cifar10.load_data()"
   ]
  },
  {
   "cell_type": "code",
   "execution_count": 2,
   "metadata": {},
   "outputs": [
    {
     "data": {
      "text/plain": [
       "array([0, 1, 2, 3, 4, 5, 6, 7, 8, 9], dtype=uint8)"
      ]
     },
     "execution_count": 2,
     "metadata": {},
     "output_type": "execute_result"
    }
   ],
   "source": [
    "import numpy as np\n",
    "np.unique(y_train)"
   ]
  },
  {
   "cell_type": "code",
   "execution_count": 3,
   "metadata": {
    "collapsed": true
   },
   "outputs": [],
   "source": [
    "x_train = x_train.astype('float32')\n",
    "x_test = x_test.astype('float32')"
   ]
  },
  {
   "cell_type": "code",
   "execution_count": 4,
   "metadata": {
    "collapsed": true
   },
   "outputs": [],
   "source": [
    "x_train = x_train/255\n",
    "x_test = x_test/255"
   ]
  },
  {
   "cell_type": "code",
   "execution_count": 5,
   "metadata": {
    "collapsed": true
   },
   "outputs": [],
   "source": [
    "from keras.utils import np_utils\n",
    "y_train = np_utils.to_categorical(y_train)\n",
    "y_test = np_utils.to_categorical(y_test)"
   ]
  },
  {
   "cell_type": "code",
   "execution_count": 6,
   "metadata": {
    "collapsed": true
   },
   "outputs": [],
   "source": [
    "from keras.models import Sequential\n",
    "from keras.layers import Activation, Dropout, Dense, Flatten, Conv2D, MaxPooling2D"
   ]
  },
  {
   "cell_type": "code",
   "execution_count": 7,
   "metadata": {
    "collapsed": true
   },
   "outputs": [],
   "source": [
    "def make_model(num_classes):\n",
    "    model = Sequential()\n",
    "    '''\n",
    "    model.add(Conv2D(filters=64,kernel_size=(3,3),input_shape=(32,32,3),activation='relu'))\n",
    "    model.add(Dropout(0.2))\n",
    "    model.add(Conv2D(filters=64,kernel_size=(3,3),activation='relu'))\n",
    "    model.add(MaxPooling2D(pool_size=(2,2)))\n",
    "    model.add(Flatten())\n",
    "    model.add(Dense(units=512,activation='tanh',kernel_initializer='zeros'))\n",
    "    model.add(Dropout(0.3))\n",
    "    model.add(Dense(units=num_classes,activation='softmax'))\n",
    "    '''\n",
    "    model.add(Conv2D(filters=6,kernel_size=(5,5),input_shape=(32,32,3),activation='relu'))\n",
    "    model.add(MaxPooling2D(pool_size=(2,2)))\n",
    "    model.add(Conv2D(filters=16,kernel_size=(5,5),activation='relu'))\n",
    "    model.add(MaxPooling2D(pool_size=(2,2)))\n",
    "    model.add(Flatten())\n",
    "    model.add(Dense(units=120,activation='relu'))\n",
    "    model.add(Dense(units=84,activation='relu'))\n",
    "    model.add(Dense(units=num_classes,activation='softmax'))\n",
    "    model.compile(optimizer='sgd',loss='categorical_crossentropy',metrics=['accuracy'])\n",
    "    return model"
   ]
  },
  {
   "cell_type": "code",
   "execution_count": 8,
   "metadata": {
    "collapsed": true
   },
   "outputs": [],
   "source": [
    "now_model = make_model(y_test.shape[1])"
   ]
  },
  {
   "cell_type": "code",
   "execution_count": 9,
   "metadata": {},
   "outputs": [
    {
     "name": "stdout",
     "output_type": "stream",
     "text": [
      "_________________________________________________________________\n",
      "Layer (type)                 Output Shape              Param #   \n",
      "=================================================================\n",
      "conv2d_1 (Conv2D)            (None, 28, 28, 6)         456       \n",
      "_________________________________________________________________\n",
      "max_pooling2d_1 (MaxPooling2 (None, 14, 14, 6)         0         \n",
      "_________________________________________________________________\n",
      "conv2d_2 (Conv2D)            (None, 10, 10, 16)        2416      \n",
      "_________________________________________________________________\n",
      "max_pooling2d_2 (MaxPooling2 (None, 5, 5, 16)          0         \n",
      "_________________________________________________________________\n",
      "flatten_1 (Flatten)          (None, 400)               0         \n",
      "_________________________________________________________________\n",
      "dense_1 (Dense)              (None, 120)               48120     \n",
      "_________________________________________________________________\n",
      "dense_2 (Dense)              (None, 84)                10164     \n",
      "_________________________________________________________________\n",
      "dense_3 (Dense)              (None, 10)                850       \n",
      "=================================================================\n",
      "Total params: 62,006.0\n",
      "Trainable params: 62,006.0\n",
      "Non-trainable params: 0.0\n",
      "_________________________________________________________________\n"
     ]
    }
   ],
   "source": [
    "now_model.summary()"
   ]
  },
  {
   "cell_type": "code",
   "execution_count": 10,
   "metadata": {},
   "outputs": [
    {
     "name": "stdout",
     "output_type": "stream",
     "text": [
      "Train on 10000 samples, validate on 10000 samples\n",
      "Epoch 1/150\n",
      "10000/10000 [==============================] - 6s - loss: 2.2730 - acc: 0.1545 - val_loss: 2.2094 - val_acc: 0.1609\n",
      "Epoch 2/150\n",
      "10000/10000 [==============================] - 4s - loss: 2.0913 - acc: 0.2315 - val_loss: 2.0397 - val_acc: 0.2553\n",
      "Epoch 3/150\n",
      "10000/10000 [==============================] - 4s - loss: 1.9715 - acc: 0.2840 - val_loss: 1.9112 - val_acc: 0.3067\n",
      "Epoch 4/150\n",
      "10000/10000 [==============================] - 4s - loss: 1.8851 - acc: 0.3233 - val_loss: 1.8078 - val_acc: 0.3564\n",
      "Epoch 5/150\n",
      "10000/10000 [==============================] - 4s - loss: 1.8031 - acc: 0.3513 - val_loss: 1.7455 - val_acc: 0.3693\n",
      "Epoch 6/150\n",
      "10000/10000 [==============================] - 4s - loss: 1.7340 - acc: 0.3754 - val_loss: 1.8179 - val_acc: 0.3382\n",
      "Epoch 7/150\n",
      "10000/10000 [==============================] - 4s - loss: 1.6723 - acc: 0.3958 - val_loss: 1.6405 - val_acc: 0.4130\n",
      "Epoch 8/150\n",
      "10000/10000 [==============================] - 4s - loss: 1.6265 - acc: 0.4149 - val_loss: 1.8196 - val_acc: 0.3652\n",
      "Epoch 9/150\n",
      "10000/10000 [==============================] - 4s - loss: 1.5677 - acc: 0.4348 - val_loss: 1.5064 - val_acc: 0.4512\n",
      "Epoch 10/150\n",
      "10000/10000 [==============================] - 4s - loss: 1.5334 - acc: 0.4474 - val_loss: 1.5629 - val_acc: 0.4315\n",
      "Epoch 11/150\n",
      "10000/10000 [==============================] - 4s - loss: 1.5046 - acc: 0.4543 - val_loss: 1.5644 - val_acc: 0.4417\n",
      "Epoch 12/150\n",
      "10000/10000 [==============================] - 4s - loss: 1.4802 - acc: 0.4675 - val_loss: 1.6031 - val_acc: 0.4389\n",
      "Epoch 13/150\n",
      "10000/10000 [==============================] - 4s - loss: 1.4459 - acc: 0.4791 - val_loss: 1.4226 - val_acc: 0.4821\n",
      "Epoch 14/150\n",
      "10000/10000 [==============================] - 4s - loss: 1.4245 - acc: 0.4878 - val_loss: 1.3857 - val_acc: 0.5011\n",
      "Epoch 15/150\n",
      "10000/10000 [==============================] - 4s - loss: 1.3984 - acc: 0.4956 - val_loss: 1.5189 - val_acc: 0.4695\n",
      "Epoch 16/150\n",
      "10000/10000 [==============================] - 4s - loss: 1.3712 - acc: 0.5083 - val_loss: 1.3459 - val_acc: 0.5080\n",
      "Epoch 17/150\n",
      "10000/10000 [==============================] - 4s - loss: 1.3479 - acc: 0.5129 - val_loss: 1.5025 - val_acc: 0.4813\n",
      "Epoch 18/150\n",
      "10000/10000 [==============================] - 4s - loss: 1.3310 - acc: 0.5215 - val_loss: 1.3796 - val_acc: 0.5092\n",
      "Epoch 19/150\n",
      "10000/10000 [==============================] - 4s - loss: 1.3170 - acc: 0.5278 - val_loss: 1.3395 - val_acc: 0.5259\n",
      "Epoch 20/150\n",
      "10000/10000 [==============================] - 4s - loss: 1.2883 - acc: 0.5384 - val_loss: 1.3781 - val_acc: 0.5065\n",
      "Epoch 21/150\n",
      "10000/10000 [==============================] - 4s - loss: 1.2716 - acc: 0.5424 - val_loss: 1.2582 - val_acc: 0.5542\n",
      "Epoch 22/150\n",
      "10000/10000 [==============================] - 4s - loss: 1.2439 - acc: 0.5551 - val_loss: 1.2568 - val_acc: 0.5526\n",
      "Epoch 23/150\n",
      "10000/10000 [==============================] - 4s - loss: 1.2299 - acc: 0.5609 - val_loss: 1.3572 - val_acc: 0.5179\n",
      "Epoch 24/150\n",
      "10000/10000 [==============================] - 4s - loss: 1.2088 - acc: 0.5698 - val_loss: 1.2500 - val_acc: 0.5608\n",
      "Epoch 25/150\n",
      "10000/10000 [==============================] - 4s - loss: 1.1937 - acc: 0.5775 - val_loss: 1.1420 - val_acc: 0.5906\n",
      "Epoch 26/150\n",
      "10000/10000 [==============================] - 4s - loss: 1.1739 - acc: 0.5790 - val_loss: 1.1937 - val_acc: 0.5764\n",
      "Epoch 27/150\n",
      "10000/10000 [==============================] - 4s - loss: 1.1523 - acc: 0.5871 - val_loss: 1.1399 - val_acc: 0.5897\n",
      "Epoch 28/150\n",
      "10000/10000 [==============================] - 4s - loss: 1.1351 - acc: 0.5965 - val_loss: 1.1390 - val_acc: 0.5914\n",
      "Epoch 29/150\n",
      "10000/10000 [==============================] - 4s - loss: 1.1209 - acc: 0.6002 - val_loss: 1.2333 - val_acc: 0.5579\n",
      "Epoch 30/150\n",
      "10000/10000 [==============================] - 4s - loss: 1.1061 - acc: 0.6030 - val_loss: 1.0469 - val_acc: 0.6251\n",
      "Epoch 31/150\n",
      "10000/10000 [==============================] - 4s - loss: 1.0823 - acc: 0.6169 - val_loss: 1.0741 - val_acc: 0.6129\n",
      "Epoch 32/150\n",
      "10000/10000 [==============================] - 4s - loss: 1.0599 - acc: 0.6217 - val_loss: 1.2717 - val_acc: 0.5559\n",
      "Epoch 33/150\n",
      "10000/10000 [==============================] - 4s - loss: 1.0451 - acc: 0.6265 - val_loss: 0.9627 - val_acc: 0.6611\n",
      "Epoch 34/150\n",
      "10000/10000 [==============================] - 4s - loss: 1.0260 - acc: 0.6331 - val_loss: 1.1654 - val_acc: 0.5693\n",
      "Epoch 35/150\n",
      "10000/10000 [==============================] - 4s - loss: 1.0011 - acc: 0.6418 - val_loss: 1.0741 - val_acc: 0.6163\n",
      "Epoch 36/150\n",
      "10000/10000 [==============================] - 4s - loss: 0.9875 - acc: 0.6485 - val_loss: 0.9770 - val_acc: 0.6446\n",
      "Epoch 37/150\n",
      "10000/10000 [==============================] - 4s - loss: 0.9740 - acc: 0.6560 - val_loss: 1.0194 - val_acc: 0.6389\n",
      "Epoch 38/150\n",
      "10000/10000 [==============================] - 4s - loss: 0.9533 - acc: 0.6641 - val_loss: 0.9407 - val_acc: 0.6627\n",
      "Epoch 39/150\n",
      "10000/10000 [==============================] - 4s - loss: 0.9306 - acc: 0.6687 - val_loss: 0.8911 - val_acc: 0.6846\n",
      "Epoch 40/150\n",
      "10000/10000 [==============================] - 4s - loss: 0.9107 - acc: 0.6754 - val_loss: 0.9593 - val_acc: 0.6583\n",
      "Epoch 41/150\n",
      "10000/10000 [==============================] - 5s - loss: 0.8948 - acc: 0.6835 - val_loss: 1.0272 - val_acc: 0.6413\n",
      "Epoch 42/150\n",
      "10000/10000 [==============================] - 5s - loss: 0.8703 - acc: 0.6892 - val_loss: 0.8627 - val_acc: 0.6886\n",
      "Epoch 43/150\n",
      "10000/10000 [==============================] - 4s - loss: 0.8506 - acc: 0.6965 - val_loss: 0.8880 - val_acc: 0.6858\n",
      "Epoch 44/150\n",
      "10000/10000 [==============================] - 4s - loss: 0.8331 - acc: 0.7078 - val_loss: 0.7846 - val_acc: 0.7269\n",
      "Epoch 45/150\n",
      "10000/10000 [==============================] - 4s - loss: 0.8050 - acc: 0.7179 - val_loss: 0.7838 - val_acc: 0.7228\n",
      "Epoch 46/150\n",
      "10000/10000 [==============================] - 4s - loss: 0.7983 - acc: 0.7100 - val_loss: 0.8801 - val_acc: 0.6824\n",
      "Epoch 47/150\n",
      "10000/10000 [==============================] - 4s - loss: 0.7733 - acc: 0.7254 - val_loss: 0.7165 - val_acc: 0.7471\n",
      "Epoch 48/150\n",
      "10000/10000 [==============================] - 4s - loss: 0.7471 - acc: 0.7356 - val_loss: 0.8084 - val_acc: 0.7104\n",
      "Epoch 49/150\n",
      "10000/10000 [==============================] - 4s - loss: 0.7283 - acc: 0.7389 - val_loss: 0.7466 - val_acc: 0.7320\n",
      "Epoch 50/150\n",
      "10000/10000 [==============================] - 4s - loss: 0.7108 - acc: 0.7481 - val_loss: 0.6410 - val_acc: 0.7723\n",
      "Epoch 51/150\n",
      "10000/10000 [==============================] - 4s - loss: 0.6918 - acc: 0.7539 - val_loss: 0.6427 - val_acc: 0.7792\n",
      "Epoch 52/150\n",
      "10000/10000 [==============================] - 4s - loss: 0.6779 - acc: 0.7612 - val_loss: 0.7132 - val_acc: 0.7431\n",
      "Epoch 53/150\n",
      "10000/10000 [==============================] - 4s - loss: 0.6545 - acc: 0.7679 - val_loss: 0.6902 - val_acc: 0.7441\n",
      "Epoch 54/150\n",
      "10000/10000 [==============================] - 4s - loss: 0.6269 - acc: 0.7737 - val_loss: 0.6510 - val_acc: 0.7688\n",
      "Epoch 55/150\n",
      "10000/10000 [==============================] - 4s - loss: 0.6070 - acc: 0.7826 - val_loss: 0.6131 - val_acc: 0.7744\n",
      "Epoch 56/150\n",
      "10000/10000 [==============================] - 4s - loss: 0.5861 - acc: 0.7941 - val_loss: 0.5611 - val_acc: 0.7994\n",
      "Epoch 57/150\n",
      "10000/10000 [==============================] - 4s - loss: 0.5712 - acc: 0.8002 - val_loss: 0.5287 - val_acc: 0.8120\n",
      "Epoch 58/150\n",
      "10000/10000 [==============================] - 4s - loss: 0.5450 - acc: 0.8063 - val_loss: 0.5442 - val_acc: 0.7905\n",
      "Epoch 59/150\n",
      "10000/10000 [==============================] - 4s - loss: 0.5288 - acc: 0.8116 - val_loss: 0.4785 - val_acc: 0.8374\n",
      "Epoch 60/150\n",
      "10000/10000 [==============================] - 4s - loss: 0.5168 - acc: 0.8182 - val_loss: 0.5519 - val_acc: 0.8032\n",
      "Epoch 61/150\n",
      "10000/10000 [==============================] - 4s - loss: 0.4929 - acc: 0.8268 - val_loss: 0.5130 - val_acc: 0.8111\n",
      "Epoch 62/150\n",
      "10000/10000 [==============================] - 4s - loss: 0.4599 - acc: 0.8379 - val_loss: 0.3811 - val_acc: 0.8697\n",
      "Epoch 63/150\n",
      "10000/10000 [==============================] - 4s - loss: 0.4410 - acc: 0.8429 - val_loss: 0.4255 - val_acc: 0.8467\n",
      "Epoch 64/150\n"
     ]
    },
    {
     "name": "stdout",
     "output_type": "stream",
     "text": [
      "10000/10000 [==============================] - 4s - loss: 0.4341 - acc: 0.8480 - val_loss: 0.8160 - val_acc: 0.7110\n",
      "Epoch 65/150\n",
      "10000/10000 [==============================] - 4s - loss: 0.4244 - acc: 0.8523 - val_loss: 0.4636 - val_acc: 0.8261\n",
      "Epoch 66/150\n",
      "10000/10000 [==============================] - 4s - loss: 0.3996 - acc: 0.8618 - val_loss: 0.3479 - val_acc: 0.8816\n",
      "Epoch 67/150\n",
      "10000/10000 [==============================] - 4s - loss: 0.3772 - acc: 0.8694 - val_loss: 0.4535 - val_acc: 0.8404\n",
      "Epoch 68/150\n",
      "10000/10000 [==============================] - 4s - loss: 0.3932 - acc: 0.8620 - val_loss: 0.3304 - val_acc: 0.8864\n",
      "Epoch 69/150\n",
      "10000/10000 [==============================] - 4s - loss: 0.3572 - acc: 0.8769 - val_loss: 0.2934 - val_acc: 0.9067\n",
      "Epoch 70/150\n",
      "10000/10000 [==============================] - 4s - loss: 0.3354 - acc: 0.8848 - val_loss: 0.2502 - val_acc: 0.9231\n",
      "Epoch 71/150\n",
      "10000/10000 [==============================] - 5s - loss: 0.3195 - acc: 0.8922 - val_loss: 0.3081 - val_acc: 0.8873\n",
      "Epoch 72/150\n",
      "10000/10000 [==============================] - 5s - loss: 0.2916 - acc: 0.8990 - val_loss: 0.5653 - val_acc: 0.8121\n",
      "Epoch 73/150\n",
      "10000/10000 [==============================] - 5s - loss: 0.2738 - acc: 0.9079 - val_loss: 0.2505 - val_acc: 0.9158\n",
      "Epoch 74/150\n",
      "10000/10000 [==============================] - 5s - loss: 0.2951 - acc: 0.8993 - val_loss: 0.7449 - val_acc: 0.7614\n",
      "Epoch 75/150\n",
      "10000/10000 [==============================] - 4s - loss: 0.2806 - acc: 0.9025 - val_loss: 0.2581 - val_acc: 0.9088\n",
      "Epoch 76/150\n",
      "10000/10000 [==============================] - 4s - loss: 0.2530 - acc: 0.9108 - val_loss: 0.1869 - val_acc: 0.9408\n",
      "Epoch 77/150\n",
      "10000/10000 [==============================] - 4s - loss: 0.2476 - acc: 0.9163 - val_loss: 0.5643 - val_acc: 0.8066\n",
      "Epoch 78/150\n",
      "10000/10000 [==============================] - 4s - loss: 0.2255 - acc: 0.9240 - val_loss: 0.2476 - val_acc: 0.9122\n",
      "Epoch 79/150\n",
      "10000/10000 [==============================] - 4s - loss: 0.2093 - acc: 0.9301 - val_loss: 0.1558 - val_acc: 0.9547\n",
      "Epoch 80/150\n",
      "10000/10000 [==============================] - 4s - loss: 0.2337 - acc: 0.9206 - val_loss: 0.3388 - val_acc: 0.8746\n",
      "Epoch 81/150\n",
      "10000/10000 [==============================] - 4s - loss: 0.2119 - acc: 0.9293 - val_loss: 0.2024 - val_acc: 0.9328\n",
      "Epoch 82/150\n",
      "10000/10000 [==============================] - 4s - loss: 0.1793 - acc: 0.9413 - val_loss: 0.1573 - val_acc: 0.9492\n",
      "Epoch 83/150\n",
      "10000/10000 [==============================] - 4s - loss: 0.1501 - acc: 0.9532 - val_loss: 0.1130 - val_acc: 0.9678\n",
      "Epoch 84/150\n",
      "10000/10000 [==============================] - 4s - loss: 0.1686 - acc: 0.9477 - val_loss: 0.1242 - val_acc: 0.9651\n",
      "Epoch 85/150\n",
      "10000/10000 [==============================] - 4s - loss: 0.1477 - acc: 0.9559 - val_loss: 0.1741 - val_acc: 0.9438\n",
      "Epoch 86/150\n",
      "10000/10000 [==============================] - 4s - loss: 0.1174 - acc: 0.9670 - val_loss: 0.1725 - val_acc: 0.9372\n",
      "Epoch 87/150\n",
      "10000/10000 [==============================] - 4s - loss: 0.1457 - acc: 0.9543 - val_loss: 0.5761 - val_acc: 0.8219\n",
      "Epoch 88/150\n",
      "10000/10000 [==============================] - 4s - loss: 0.1743 - acc: 0.9419 - val_loss: 0.1754 - val_acc: 0.9410\n",
      "Epoch 89/150\n",
      "10000/10000 [==============================] - 4s - loss: 0.1230 - acc: 0.9622 - val_loss: 0.0705 - val_acc: 0.9845\n",
      "Epoch 90/150\n",
      "10000/10000 [==============================] - 4s - loss: 0.0854 - acc: 0.9779 - val_loss: 0.0843 - val_acc: 0.9774\n",
      "Epoch 91/150\n",
      "10000/10000 [==============================] - 4s - loss: 0.0937 - acc: 0.9735 - val_loss: 0.3012 - val_acc: 0.9148\n",
      "Epoch 92/150\n",
      "10000/10000 [==============================] - 4s - loss: 0.0703 - acc: 0.9829 - val_loss: 0.0383 - val_acc: 0.9954\n",
      "Epoch 93/150\n",
      "10000/10000 [==============================] - 4s - loss: 0.0406 - acc: 0.9929 - val_loss: 0.0309 - val_acc: 0.9959\n",
      "Epoch 94/150\n",
      "10000/10000 [==============================] - 4s - loss: 0.0286 - acc: 0.9963 - val_loss: 0.0236 - val_acc: 0.9982\n",
      "Epoch 95/150\n",
      "10000/10000 [==============================] - 4s - loss: 0.0219 - acc: 0.9977 - val_loss: 0.0171 - val_acc: 0.9992\n",
      "Epoch 96/150\n",
      "10000/10000 [==============================] - 4s - loss: 0.0164 - acc: 0.9993 - val_loss: 0.0241 - val_acc: 0.9963\n",
      "Epoch 97/150\n",
      "10000/10000 [==============================] - 4s - loss: 0.0157 - acc: 0.9992 - val_loss: 0.0129 - val_acc: 0.9993\n",
      "Epoch 98/150\n",
      "10000/10000 [==============================] - 4s - loss: 0.0136 - acc: 0.9995 - val_loss: 0.0110 - val_acc: 0.9999\n",
      "Epoch 99/150\n",
      "10000/10000 [==============================] - 4s - loss: 0.0111 - acc: 0.9998 - val_loss: 0.0132 - val_acc: 0.9992\n",
      "Epoch 100/150\n",
      "10000/10000 [==============================] - 4s - loss: 0.0127 - acc: 0.9991 - val_loss: 0.0095 - val_acc: 0.9999\n",
      "Epoch 101/150\n",
      "10000/10000 [==============================] - 4s - loss: 0.0096 - acc: 0.9997 - val_loss: 0.0082 - val_acc: 0.9999\n",
      "Epoch 102/150\n",
      "10000/10000 [==============================] - 4s - loss: 0.0084 - acc: 0.9999 - val_loss: 0.0071 - val_acc: 1.0000\n",
      "Epoch 103/150\n",
      "10000/10000 [==============================] - 4s - loss: 0.0077 - acc: 1.0000 - val_loss: 0.0068 - val_acc: 1.0000\n",
      "Epoch 104/150\n",
      "10000/10000 [==============================] - 4s - loss: 0.0073 - acc: 1.0000 - val_loss: 0.0065 - val_acc: 0.9999\n",
      "Epoch 105/150\n",
      "10000/10000 [==============================] - 4s - loss: 0.0065 - acc: 1.0000 - val_loss: 0.0061 - val_acc: 0.9999\n",
      "Epoch 106/150\n",
      "10000/10000 [==============================] - 4s - loss: 0.0062 - acc: 1.0000 - val_loss: 0.0059 - val_acc: 1.0000\n",
      "Epoch 107/150\n",
      "10000/10000 [==============================] - 4s - loss: 0.0058 - acc: 1.0000 - val_loss: 0.0051 - val_acc: 1.0000\n",
      "Epoch 108/150\n",
      "10000/10000 [==============================] - 4s - loss: 0.0055 - acc: 1.0000 - val_loss: 0.0048 - val_acc: 1.0000\n",
      "Epoch 109/150\n",
      "10000/10000 [==============================] - 4s - loss: 0.0054 - acc: 0.9999 - val_loss: 0.0046 - val_acc: 1.0000\n",
      "Epoch 110/150\n",
      "10000/10000 [==============================] - 4s - loss: 0.0050 - acc: 1.0000 - val_loss: 0.0043 - val_acc: 1.0000\n",
      "Epoch 111/150\n",
      "10000/10000 [==============================] - 4s - loss: 0.0047 - acc: 1.0000 - val_loss: 0.0043 - val_acc: 1.0000\n",
      "Epoch 112/150\n",
      "10000/10000 [==============================] - 4s - loss: 0.0044 - acc: 1.0000 - val_loss: 0.0039 - val_acc: 1.0000\n",
      "Epoch 113/150\n",
      "10000/10000 [==============================] - 4s - loss: 0.0042 - acc: 1.0000 - val_loss: 0.0038 - val_acc: 1.0000\n",
      "Epoch 114/150\n",
      "10000/10000 [==============================] - 4s - loss: 0.0041 - acc: 1.0000 - val_loss: 0.0037 - val_acc: 1.0000\n",
      "Epoch 115/150\n",
      "10000/10000 [==============================] - 4s - loss: 0.0039 - acc: 1.0000 - val_loss: 0.0037 - val_acc: 1.0000\n",
      "Epoch 116/150\n",
      "10000/10000 [==============================] - 4s - loss: 0.0037 - acc: 1.0000 - val_loss: 0.0035 - val_acc: 1.0000\n",
      "Epoch 117/150\n",
      "10000/10000 [==============================] - 4s - loss: 0.0035 - acc: 1.0000 - val_loss: 0.0033 - val_acc: 1.0000\n",
      "Epoch 118/150\n",
      "10000/10000 [==============================] - 4s - loss: 0.0034 - acc: 1.0000 - val_loss: 0.0032 - val_acc: 1.0000\n",
      "Epoch 119/150\n",
      "10000/10000 [==============================] - 4s - loss: 0.0033 - acc: 1.0000 - val_loss: 0.0031 - val_acc: 1.0000\n",
      "Epoch 120/150\n",
      "10000/10000 [==============================] - 4s - loss: 0.0032 - acc: 1.0000 - val_loss: 0.0030 - val_acc: 1.0000\n",
      "Epoch 121/150\n",
      "10000/10000 [==============================] - 4s - loss: 0.0031 - acc: 1.0000 - val_loss: 0.0028 - val_acc: 1.0000\n",
      "Epoch 122/150\n",
      "10000/10000 [==============================] - 4s - loss: 0.0030 - acc: 1.0000 - val_loss: 0.0027 - val_acc: 1.0000\n",
      "Epoch 123/150\n",
      "10000/10000 [==============================] - 4s - loss: 0.0029 - acc: 1.0000 - val_loss: 0.0027 - val_acc: 1.0000\n",
      "Epoch 124/150\n",
      "10000/10000 [==============================] - 4s - loss: 0.0028 - acc: 1.0000 - val_loss: 0.0026 - val_acc: 1.0000\n",
      "Epoch 125/150\n",
      "10000/10000 [==============================] - 4s - loss: 0.0027 - acc: 1.0000 - val_loss: 0.0025 - val_acc: 1.0000\n",
      "Epoch 126/150\n",
      "10000/10000 [==============================] - 4s - loss: 0.0026 - acc: 1.0000 - val_loss: 0.0025 - val_acc: 1.0000\n",
      "Epoch 127/150\n"
     ]
    },
    {
     "name": "stdout",
     "output_type": "stream",
     "text": [
      "10000/10000 [==============================] - 4s - loss: 0.0026 - acc: 1.0000 - val_loss: 0.0024 - val_acc: 1.0000\n",
      "Epoch 128/150\n",
      "10000/10000 [==============================] - 4s - loss: 0.0025 - acc: 1.0000 - val_loss: 0.0024 - val_acc: 1.0000\n",
      "Epoch 129/150\n",
      "10000/10000 [==============================] - 4s - loss: 0.0024 - acc: 1.0000 - val_loss: 0.0023 - val_acc: 1.0000\n",
      "Epoch 130/150\n",
      "10000/10000 [==============================] - 4s - loss: 0.0023 - acc: 1.0000 - val_loss: 0.0022 - val_acc: 1.0000\n",
      "Epoch 131/150\n",
      "10000/10000 [==============================] - 4s - loss: 0.0023 - acc: 1.0000 - val_loss: 0.0022 - val_acc: 1.0000\n",
      "Epoch 132/150\n",
      "10000/10000 [==============================] - 4s - loss: 0.0022 - acc: 1.0000 - val_loss: 0.0022 - val_acc: 1.0000\n",
      "Epoch 133/150\n",
      "10000/10000 [==============================] - 4s - loss: 0.0022 - acc: 1.0000 - val_loss: 0.0021 - val_acc: 1.0000\n",
      "Epoch 134/150\n",
      "10000/10000 [==============================] - 4s - loss: 0.0021 - acc: 1.0000 - val_loss: 0.0020 - val_acc: 1.0000\n",
      "Epoch 135/150\n",
      "10000/10000 [==============================] - 4s - loss: 0.0021 - acc: 1.0000 - val_loss: 0.0020 - val_acc: 1.0000\n",
      "Epoch 136/150\n",
      "10000/10000 [==============================] - 4s - loss: 0.0020 - acc: 1.0000 - val_loss: 0.0019 - val_acc: 1.0000\n",
      "Epoch 137/150\n",
      "10000/10000 [==============================] - 4s - loss: 0.0020 - acc: 1.0000 - val_loss: 0.0019 - val_acc: 1.0000\n",
      "Epoch 138/150\n",
      "10000/10000 [==============================] - 4s - loss: 0.0020 - acc: 1.0000 - val_loss: 0.0018 - val_acc: 1.0000\n",
      "Epoch 139/150\n",
      "10000/10000 [==============================] - 4s - loss: 0.0019 - acc: 1.0000 - val_loss: 0.0018 - val_acc: 1.0000\n",
      "Epoch 140/150\n",
      "10000/10000 [==============================] - 4s - loss: 0.0019 - acc: 1.0000 - val_loss: 0.0017 - val_acc: 1.0000\n",
      "Epoch 141/150\n",
      "10000/10000 [==============================] - 4s - loss: 0.0018 - acc: 1.0000 - val_loss: 0.0017 - val_acc: 1.0000\n",
      "Epoch 142/150\n",
      "10000/10000 [==============================] - 4s - loss: 0.0018 - acc: 1.0000 - val_loss: 0.0017 - val_acc: 1.0000\n",
      "Epoch 143/150\n",
      "10000/10000 [==============================] - 4s - loss: 0.0017 - acc: 1.0000 - val_loss: 0.0016 - val_acc: 1.0000\n",
      "Epoch 144/150\n",
      "10000/10000 [==============================] - 4s - loss: 0.0017 - acc: 1.0000 - val_loss: 0.0016 - val_acc: 1.0000\n",
      "Epoch 145/150\n",
      "10000/10000 [==============================] - 4s - loss: 0.0017 - acc: 1.0000 - val_loss: 0.0016 - val_acc: 1.0000\n",
      "Epoch 146/150\n",
      "10000/10000 [==============================] - 4s - loss: 0.0016 - acc: 1.0000 - val_loss: 0.0016 - val_acc: 1.0000\n",
      "Epoch 147/150\n",
      "10000/10000 [==============================] - 4s - loss: 0.0016 - acc: 1.0000 - val_loss: 0.0015 - val_acc: 1.0000\n",
      "Epoch 148/150\n",
      "10000/10000 [==============================] - 4s - loss: 0.0016 - acc: 1.0000 - val_loss: 0.0015 - val_acc: 1.0000\n",
      "Epoch 149/150\n",
      "10000/10000 [==============================] - 4s - loss: 0.0015 - acc: 1.0000 - val_loss: 0.0015 - val_acc: 1.0000\n",
      "Epoch 150/150\n",
      "10000/10000 [==============================] - 4s - loss: 0.0015 - acc: 1.0000 - val_loss: 0.0015 - val_acc: 1.0000\n"
     ]
    }
   ],
   "source": [
    "history = now_model.fit(x_test,y_test,validation_data=(x_test,y_test),epochs=150,batch_size=32)"
   ]
  },
  {
   "cell_type": "code",
   "execution_count": 11,
   "metadata": {},
   "outputs": [
    {
     "name": "stdout",
     "output_type": "stream",
     "text": [
      "Accuracy: 100.00%\n"
     ]
    }
   ],
   "source": [
    "scores = now_model.evaluate(x_test, y_test, verbose=0)\n",
    "print(\"Accuracy: %.2f%%\" % (scores[1]*100))"
   ]
  },
  {
   "cell_type": "code",
   "execution_count": 12,
   "metadata": {
    "collapsed": true
   },
   "outputs": [],
   "source": [
    "import cv2\n",
    "x = np.array([cv2.imread('dog4.png')])\n",
    "result = now_model.predict(x)"
   ]
  },
  {
   "cell_type": "code",
   "execution_count": 13,
   "metadata": {},
   "outputs": [
    {
     "data": {
      "text/plain": [
       "array([1], dtype=int64)"
      ]
     },
     "execution_count": 13,
     "metadata": {},
     "output_type": "execute_result"
    }
   ],
   "source": [
    "np.argmax(result,axis=1)"
   ]
  },
  {
   "cell_type": "code",
   "execution_count": 14,
   "metadata": {},
   "outputs": [
    {
     "data": {
      "image/png": "[encoded data removed]",
      "text/plain": [
       "<matplotlib.figure.Figure at 0xe6d3425fd0>"
      ]
     },
     "metadata": {},
     "output_type": "display_data"
    },
    {
     "data": {
      "image/png": "[encoded data removed]",
      "text/plain": [
       "<matplotlib.figure.Figure at 0xe74451f5c0>"
      ]
     },
     "metadata": {},
     "output_type": "display_data"
    }
   ],
   "source": [
    "import matplotlib.pyplot as plt\n",
    "plt.plot(history.history['acc'])\n",
    "plt.plot(history.history['val_acc'])\n",
    "plt.title('model accuracy')\n",
    "plt.ylabel('accuracy')\n",
    "plt.xlabel('epoch')\n",
    "plt.legend(['train', 'test'], loc='upper left')\n",
    "plt.show()\n",
    "# summarize history for loss\n",
    "plt.plot(history.history['loss'])\n",
    "plt.plot(history.history['val_loss'])\n",
    "plt.title('model loss')\n",
    "plt.ylabel('loss')\n",
    "plt.xlabel('epoch')\n",
    "plt.legend(['train', 'test'], loc='upper left')\n",
    "plt.show()"
   ]
  },
  {
   "cell_type": "code",
   "execution_count": null,
   "metadata": {
    "collapsed": true
   },
   "outputs": [],
   "source": []
  }
 ],
 "metadata": {
  "kernelspec": {
   "display_name": "Python 3",
   "language": "python",
   "name": "python3"
  },
  "language_info": {
   "codemirror_mode": {
    "name": "ipython",
    "version": 3
   },
   "file_extension": ".py",
   "mimetype": "text/x-python",
   "name": "python",
   "nbconvert_exporter": "python",
   "pygments_lexer": "ipython3",
   "version": "3.5.3"
  }
 },
 "nbformat": 4,
 "nbformat_minor": 2
}
