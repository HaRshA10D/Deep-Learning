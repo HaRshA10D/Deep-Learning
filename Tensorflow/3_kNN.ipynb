{
 "cells": [
  {
   "cell_type": "code",
   "execution_count": 1,
   "metadata": {
    "collapsed": true
   },
   "outputs": [],
   "source": [
    "import numpy as np\n",
    "import tensorflow as tf\n",
    "from tensorflow.examples.tutorials.mnist import input_data"
   ]
  },
  {
   "cell_type": "code",
   "execution_count": 2,
   "metadata": {},
   "outputs": [
    {
     "name": "stdout",
     "output_type": "stream",
     "text": [
      "Extracting MNIST_data\\train-images-idx3-ubyte.gz\n",
      "Extracting MNIST_data\\train-labels-idx1-ubyte.gz\n",
      "Extracting MNIST_data\\t10k-images-idx3-ubyte.gz\n",
      "Extracting MNIST_data\\t10k-labels-idx1-ubyte.gz\n"
     ]
    }
   ],
   "source": [
    "mnist = input_data.read_data_sets(\"MNIST_data\",one_hot=True)"
   ]
  },
  {
   "cell_type": "code",
   "execution_count": 3,
   "metadata": {
    "collapsed": true
   },
   "outputs": [],
   "source": [
    "X_train,y_train = mnist.train.next_batch(10000)\n",
    "X_test,y_test = mnist.test.next_batch(200)"
   ]
  },
  {
   "cell_type": "code",
   "execution_count": 4,
   "metadata": {
    "collapsed": true
   },
   "outputs": [],
   "source": [
    "Xtr = tf.placeholder(\"float\",[None,784])\n",
    "Xte = tf.placeholder(\"float\",[784])"
   ]
  },
  {
   "cell_type": "code",
   "execution_count": 5,
   "metadata": {},
   "outputs": [],
   "source": [
    "distance = tf.reduce_sum(tf.abs(tf.add(Xtr, tf.negative(Xte))), reduction_indices=1)"
   ]
  },
  {
   "cell_type": "code",
   "execution_count": 6,
   "metadata": {
    "collapsed": true
   },
   "outputs": [],
   "source": [
    "pred = tf.arg_min(distance,0)"
   ]
  },
  {
   "cell_type": "code",
   "execution_count": 7,
   "metadata": {
    "collapsed": true
   },
   "outputs": [],
   "source": [
    "accuracy = 0.\n",
    "init = tf.global_variables_initializer()"
   ]
  },
  {
   "cell_type": "code",
   "execution_count": 9,
   "metadata": {},
   "outputs": [
    {
     "name": "stdout",
     "output_type": "stream",
     "text": [
      "Test sample: 0 Prediction: 3 Original: 3\n",
      "Test sample: 1 Prediction: 3 Original: 3\n",
      "Test sample: 2 Prediction: 6 Original: 6\n",
      "Test sample: 3 Prediction: 0 Original: 0\n",
      "Test sample: 4 Prediction: 3 Original: 3\n",
      "Test sample: 5 Prediction: 7 Original: 3\n",
      "Test sample: 6 Prediction: 9 Original: 9\n",
      "Test sample: 7 Prediction: 4 Original: 4\n",
      "Test sample: 8 Prediction: 6 Original: 6\n",
      "Test sample: 9 Prediction: 7 Original: 7\n",
      "Test sample: 10 Prediction: 4 Original: 4\n",
      "Test sample: 11 Prediction: 4 Original: 4\n",
      "Test sample: 12 Prediction: 4 Original: 4\n",
      "Test sample: 13 Prediction: 5 Original: 5\n",
      "Test sample: 14 Prediction: 9 Original: 9\n",
      "Test sample: 15 Prediction: 2 Original: 2\n",
      "Test sample: 16 Prediction: 3 Original: 3\n",
      "Test sample: 17 Prediction: 2 Original: 2\n",
      "Test sample: 18 Prediction: 3 Original: 3\n",
      "Test sample: 19 Prediction: 1 Original: 1\n",
      "Test sample: 20 Prediction: 9 Original: 9\n",
      "Test sample: 21 Prediction: 2 Original: 2\n",
      "Test sample: 22 Prediction: 6 Original: 6\n",
      "Test sample: 23 Prediction: 9 Original: 9\n",
      "Test sample: 24 Prediction: 7 Original: 7\n",
      "Test sample: 25 Prediction: 1 Original: 1\n",
      "Test sample: 26 Prediction: 8 Original: 8\n",
      "Test sample: 27 Prediction: 4 Original: 4\n",
      "Test sample: 28 Prediction: 7 Original: 2\n",
      "Test sample: 29 Prediction: 6 Original: 6\n",
      "Test sample: 30 Prediction: 3 Original: 3\n",
      "Test sample: 31 Prediction: 1 Original: 4\n",
      "Test sample: 32 Prediction: 1 Original: 1\n",
      "Test sample: 33 Prediction: 3 Original: 3\n",
      "Test sample: 34 Prediction: 0 Original: 0\n",
      "Test sample: 35 Prediction: 2 Original: 2\n",
      "Test sample: 36 Prediction: 4 Original: 4\n",
      "Test sample: 37 Prediction: 7 Original: 7\n",
      "Test sample: 38 Prediction: 5 Original: 5\n",
      "Test sample: 39 Prediction: 4 Original: 7\n",
      "Test sample: 40 Prediction: 1 Original: 1\n",
      "Test sample: 41 Prediction: 1 Original: 1\n",
      "Test sample: 42 Prediction: 7 Original: 7\n",
      "Test sample: 43 Prediction: 3 Original: 3\n",
      "Test sample: 44 Prediction: 0 Original: 0\n",
      "Test sample: 45 Prediction: 9 Original: 9\n",
      "Test sample: 46 Prediction: 7 Original: 7\n",
      "Test sample: 47 Prediction: 0 Original: 0\n",
      "Test sample: 48 Prediction: 6 Original: 6\n",
      "Test sample: 49 Prediction: 7 Original: 7\n",
      "Test sample: 50 Prediction: 2 Original: 2\n",
      "Test sample: 51 Prediction: 9 Original: 9\n",
      "Test sample: 52 Prediction: 4 Original: 4\n",
      "Test sample: 53 Prediction: 1 Original: 1\n",
      "Test sample: 54 Prediction: 2 Original: 2\n",
      "Test sample: 55 Prediction: 7 Original: 7\n",
      "Test sample: 56 Prediction: 4 Original: 4\n",
      "Test sample: 57 Prediction: 6 Original: 6\n",
      "Test sample: 58 Prediction: 4 Original: 4\n",
      "Test sample: 59 Prediction: 5 Original: 5\n",
      "Test sample: 60 Prediction: 3 Original: 3\n",
      "Test sample: 61 Prediction: 8 Original: 8\n",
      "Test sample: 62 Prediction: 4 Original: 4\n",
      "Test sample: 63 Prediction: 8 Original: 8\n",
      "Test sample: 64 Prediction: 6 Original: 5\n",
      "Test sample: 65 Prediction: 0 Original: 0\n",
      "Test sample: 66 Prediction: 2 Original: 2\n",
      "Test sample: 67 Prediction: 4 Original: 4\n",
      "Test sample: 68 Prediction: 8 Original: 8\n",
      "Test sample: 69 Prediction: 0 Original: 0\n",
      "Test sample: 70 Prediction: 8 Original: 8\n",
      "Test sample: 71 Prediction: 3 Original: 3\n",
      "Test sample: 72 Prediction: 7 Original: 7\n",
      "Test sample: 73 Prediction: 8 Original: 8\n",
      "Test sample: 74 Prediction: 2 Original: 2\n",
      "Test sample: 75 Prediction: 3 Original: 3\n",
      "Test sample: 76 Prediction: 1 Original: 1\n",
      "Test sample: 77 Prediction: 5 Original: 8\n",
      "Test sample: 78 Prediction: 5 Original: 5\n",
      "Test sample: 79 Prediction: 7 Original: 7\n",
      "Test sample: 80 Prediction: 7 Original: 7\n",
      "Test sample: 81 Prediction: 2 Original: 2\n",
      "Test sample: 82 Prediction: 8 Original: 8\n",
      "Test sample: 83 Prediction: 4 Original: 4\n",
      "Test sample: 84 Prediction: 4 Original: 4\n",
      "Test sample: 85 Prediction: 8 Original: 8\n",
      "Test sample: 86 Prediction: 1 Original: 1\n",
      "Test sample: 87 Prediction: 2 Original: 2\n",
      "Test sample: 88 Prediction: 5 Original: 5\n",
      "Test sample: 89 Prediction: 4 Original: 4\n",
      "Test sample: 90 Prediction: 2 Original: 2\n",
      "Test sample: 91 Prediction: 2 Original: 2\n",
      "Test sample: 92 Prediction: 2 Original: 2\n",
      "Test sample: 93 Prediction: 1 Original: 1\n",
      "Test sample: 94 Prediction: 6 Original: 6\n",
      "Test sample: 95 Prediction: 1 Original: 1\n",
      "Test sample: 96 Prediction: 3 Original: 3\n",
      "Test sample: 97 Prediction: 9 Original: 9\n",
      "Test sample: 98 Prediction: 9 Original: 9\n",
      "Test sample: 99 Prediction: 6 Original: 6\n",
      "Test sample: 100 Prediction: 4 Original: 4\n",
      "Test sample: 101 Prediction: 5 Original: 3\n",
      "Test sample: 102 Prediction: 0 Original: 0\n",
      "Test sample: 103 Prediction: 2 Original: 2\n",
      "Test sample: 104 Prediction: 3 Original: 3\n",
      "Test sample: 105 Prediction: 4 Original: 4\n",
      "Test sample: 106 Prediction: 0 Original: 0\n",
      "Test sample: 107 Prediction: 5 Original: 5\n",
      "Test sample: 108 Prediction: 3 Original: 3\n",
      "Test sample: 109 Prediction: 3 Original: 3\n",
      "Test sample: 110 Prediction: 3 Original: 3\n",
      "Test sample: 111 Prediction: 2 Original: 2\n",
      "Test sample: 112 Prediction: 5 Original: 5\n",
      "Test sample: 113 Prediction: 7 Original: 8\n",
      "Test sample: 114 Prediction: 7 Original: 7\n",
      "Test sample: 115 Prediction: 1 Original: 1\n",
      "Test sample: 116 Prediction: 0 Original: 0\n",
      "Test sample: 117 Prediction: 9 Original: 9\n",
      "Test sample: 118 Prediction: 8 Original: 8\n",
      "Test sample: 119 Prediction: 3 Original: 3\n",
      "Test sample: 120 Prediction: 7 Original: 7\n",
      "Test sample: 121 Prediction: 2 Original: 0\n",
      "Test sample: 122 Prediction: 2 Original: 2\n",
      "Test sample: 123 Prediction: 5 Original: 5\n",
      "Test sample: 124 Prediction: 7 Original: 7\n",
      "Test sample: 125 Prediction: 0 Original: 0\n",
      "Test sample: 126 Prediction: 4 Original: 4\n",
      "Test sample: 127 Prediction: 5 Original: 5\n",
      "Test sample: 128 Prediction: 5 Original: 5\n",
      "Test sample: 129 Prediction: 1 Original: 1\n",
      "Test sample: 130 Prediction: 8 Original: 8\n",
      "Test sample: 131 Prediction: 1 Original: 7\n",
      "Test sample: 132 Prediction: 6 Original: 6\n",
      "Test sample: 133 Prediction: 5 Original: 5\n",
      "Test sample: 134 Prediction: 9 Original: 7\n",
      "Test sample: 135 Prediction: 9 Original: 9\n",
      "Test sample: 136 Prediction: 4 Original: 4\n",
      "Test sample: 137 Prediction: 4 Original: 4\n",
      "Test sample: 138 Prediction: 8 Original: 8\n",
      "Test sample: 139 Prediction: 2 Original: 2\n",
      "Test sample: 140 Prediction: 8 Original: 8\n",
      "Test sample: 141 Prediction: 5 Original: 5\n",
      "Test sample: 142 Prediction: 4 Original: 4\n",
      "Test sample: 143 Prediction: 5 Original: 5\n",
      "Test sample: 144 Prediction: 6 Original: 6\n",
      "Test sample: 145 Prediction: 0 Original: 0\n",
      "Test sample: 146 Prediction: 5 Original: 5\n",
      "Test sample: 147 Prediction: 4 Original: 4\n",
      "Test sample: 148 Prediction: 7 Original: 7\n",
      "Test sample: 149 Prediction: 4 Original: 9\n",
      "Test sample: 150 Prediction: 1 Original: 1\n",
      "Test sample: 151 Prediction: 4 Original: 4\n",
      "Test sample: 152 Prediction: 5 Original: 5\n",
      "Test sample: 153 Prediction: 3 Original: 3\n",
      "Test sample: 154 Prediction: 5 Original: 5\n",
      "Test sample: 155 Prediction: 6 Original: 6\n",
      "Test sample: 156 Prediction: 6 Original: 6\n",
      "Test sample: 157 Prediction: 4 Original: 4\n",
      "Test sample: 158 Prediction: 6 Original: 6\n",
      "Test sample: 159 Prediction: 4 Original: 4\n",
      "Test sample: 160 Prediction: 1 Original: 1\n",
      "Test sample: 161 Prediction: 9 Original: 9\n",
      "Test sample: 162 Prediction: 6 Original: 6\n",
      "Test sample: 163 Prediction: 6 Original: 6\n",
      "Test sample: 164 Prediction: 4 Original: 4\n",
      "Test sample: 165 Prediction: 0 Original: 0\n",
      "Test sample: 166 Prediction: 7 Original: 0\n",
      "Test sample: 167 Prediction: 4 Original: 4\n",
      "Test sample: 168 Prediction: 8 Original: 8\n",
      "Test sample: 169 Prediction: 7 Original: 7\n",
      "Test sample: 170 Prediction: 8 Original: 8\n",
      "Test sample: 171 Prediction: 8 Original: 8\n",
      "Test sample: 172 Prediction: 3 Original: 3\n",
      "Test sample: 173 Prediction: 7 Original: 7\n",
      "Test sample: 174 Prediction: 9 Original: 4\n",
      "Test sample: 175 Prediction: 6 Original: 6\n",
      "Test sample: 176 Prediction: 3 Original: 8\n",
      "Test sample: 177 Prediction: 9 Original: 9\n",
      "Test sample: 178 Prediction: 0 Original: 0\n",
      "Test sample: 179 Prediction: 6 Original: 6\n",
      "Test sample: 180 Prediction: 9 Original: 9\n",
      "Test sample: 181 Prediction: 9 Original: 9\n",
      "Test sample: 182 Prediction: 1 Original: 1\n",
      "Test sample: 183 Prediction: 3 Original: 3\n",
      "Test sample: 184 Prediction: 2 Original: 2\n",
      "Test sample: 185 Prediction: 3 Original: 3\n",
      "Test sample: 186 Prediction: 7 Original: 7\n",
      "Test sample: 187 Prediction: 8 Original: 8\n",
      "Test sample: 188 Prediction: 4 Original: 4\n",
      "Test sample: 189 Prediction: 1 Original: 1\n",
      "Test sample: 190 Prediction: 1 Original: 1\n",
      "Test sample: 191 Prediction: 7 Original: 7\n",
      "Test sample: 192 Prediction: 5 Original: 5\n",
      "Test sample: 193 Prediction: 9 Original: 9\n"
     ]
    },
    {
     "name": "stdout",
     "output_type": "stream",
     "text": [
      "Test sample: 194 Prediction: 6 Original: 6\n",
      "Test sample: 195 Prediction: 8 Original: 8\n",
      "Test sample: 196 Prediction: 3 Original: 3\n",
      "Test sample: 197 Prediction: 9 Original: 9\n",
      "Test sample: 198 Prediction: 3 Original: 3\n",
      "Test sample: 199 Prediction: 2 Original: 2\n",
      "Done!\n",
      "Accuracy: 0.9250000000000007\n"
     ]
    }
   ],
   "source": [
    "with tf.Session() as sess:\n",
    "    sess.run(init)\n",
    "    for i in range(len(X_test)):\n",
    "        nn_index = sess.run(pred,feed_dict={Xtr:X_train,Xte:X_test[i,:]})\n",
    "        print('Test sample:',i,'Prediction:',np.argmax(y_train[nn_index]),'Original:',np.argmax(y_test[i]))\n",
    "        if np.argmax(y_train[nn_index]) == np.argmax(y_test[i]):\n",
    "            accuracy += 1./len(X_test)\n",
    "    print('Done!')\n",
    "    print('Accuracy:',accuracy)"
   ]
  },
  {
   "cell_type": "code",
   "execution_count": null,
   "metadata": {
    "collapsed": true
   },
   "outputs": [],
   "source": []
  }
 ],
 "metadata": {
  "kernelspec": {
   "display_name": "Python 3",
   "language": "python",
   "name": "python3"
  },
  "language_info": {
   "codemirror_mode": {
    "name": "ipython",
    "version": 3
   },
   "file_extension": ".py",
   "mimetype": "text/x-python",
   "name": "python",
   "nbconvert_exporter": "python",
   "pygments_lexer": "ipython3",
   "version": "3.5.3"
  }
 },
 "nbformat": 4,
 "nbformat_minor": 2
}
