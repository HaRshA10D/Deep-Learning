{
 "cells": [
  {
   "cell_type": "code",
   "execution_count": 1,
   "metadata": {
    "collapsed": true
   },
   "outputs": [],
   "source": [
    "import tensorflow as tf\n",
    "import numpy as np\n",
    "import matplotlib.pyplot as plt\n",
    "rng = np.random"
   ]
  },
  {
   "cell_type": "code",
   "execution_count": 2,
   "metadata": {
    "collapsed": true
   },
   "outputs": [],
   "source": [
    "learning_rate = 0.01\n",
    "training_epochs = 1000\n",
    "display_step =50"
   ]
  },
  {
   "cell_type": "code",
   "execution_count": 3,
   "metadata": {
    "collapsed": true
   },
   "outputs": [],
   "source": [
    "# Training Data\n",
    "train_X = np.asarray([3.3,4.4,5.5,6.71,6.93,4.168,9.779,6.182,7.59,2.167,\n",
    "                         7.042,10.791,5.313,7.997,5.654,9.27,3.1])\n",
    "train_Y = np.asarray([1.7,2.76,2.09,3.19,1.694,1.573,3.366,2.596,2.53,1.221,\n",
    "                         2.827,3.465,1.65,2.904,2.42,2.94,1.3])\n",
    "n_samples = train_X.shape[0]"
   ]
  },
  {
   "cell_type": "code",
   "execution_count": 4,
   "metadata": {
    "collapsed": true
   },
   "outputs": [],
   "source": [
    "X = tf.placeholder(\"float\")\n",
    "Y = tf.placeholder(\"float\")\n",
    "W = tf.Variable(rng.randn(), name=\"weight\")\n",
    "b = tf.Variable(rng.randn(), name=\"bias\")"
   ]
  },
  {
   "cell_type": "code",
   "execution_count": 5,
   "metadata": {
    "collapsed": true
   },
   "outputs": [],
   "source": [
    "pred = tf.add(tf.multiply(X,W),b)"
   ]
  },
  {
   "cell_type": "code",
   "execution_count": 6,
   "metadata": {
    "collapsed": true
   },
   "outputs": [],
   "source": [
    "cost = tf.reduce_sum(tf.pow(pred-Y,2))/(2*n_samples)\n",
    "optimizer = tf.train.GradientDescentOptimizer(learning_rate).minimize(cost)"
   ]
  },
  {
   "cell_type": "code",
   "execution_count": 7,
   "metadata": {
    "collapsed": true
   },
   "outputs": [],
   "source": [
    "init = tf.global_variables_initializer()"
   ]
  },
  {
   "cell_type": "code",
   "execution_count": 11,
   "metadata": {},
   "outputs": [
    {
     "name": "stdout",
     "output_type": "stream",
     "text": [
      "Epoch: 0050 cost: 0.077050649 W: 0.245499 b: 0.830926\n",
      "Epoch: 0100 cost: 0.077044077 W: 0.245742 b: 0.829174\n",
      "Epoch: 0150 cost: 0.077038251 W: 0.245971 b: 0.827526\n",
      "Epoch: 0200 cost: 0.077033058 W: 0.246187 b: 0.825975\n",
      "Epoch: 0250 cost: 0.077028453 W: 0.24639 b: 0.824516\n",
      "Epoch: 0300 cost: 0.077024378 W: 0.24658 b: 0.823145\n",
      "Epoch: 0350 cost: 0.077020742 W: 0.246759 b: 0.821856\n",
      "Epoch: 0400 cost: 0.077017523 W: 0.246928 b: 0.820643\n",
      "Epoch: 0450 cost: 0.077014662 W: 0.247087 b: 0.819501\n",
      "Epoch: 0500 cost: 0.077012122 W: 0.247236 b: 0.818427\n",
      "Epoch: 0550 cost: 0.077009834 W: 0.247376 b: 0.817417\n",
      "Epoch: 0600 cost: 0.077007830 W: 0.247508 b: 0.816469\n",
      "Epoch: 0650 cost: 0.077006035 W: 0.247632 b: 0.815576\n",
      "Epoch: 0700 cost: 0.077004433 W: 0.247749 b: 0.814737\n",
      "Epoch: 0750 cost: 0.077002987 W: 0.247859 b: 0.813947\n",
      "Epoch: 0800 cost: 0.077001736 W: 0.247962 b: 0.813203\n",
      "Epoch: 0850 cost: 0.077000588 W: 0.248059 b: 0.812504\n",
      "Epoch: 0900 cost: 0.076999605 W: 0.248151 b: 0.811845\n",
      "Epoch: 0950 cost: 0.076998696 W: 0.248237 b: 0.811226\n",
      "Epoch: 1000 cost: 0.076997884 W: 0.248318 b: 0.810646\n",
      "Optimization finished!\n",
      "Training cost: 0.076997884 W: 0.248318 b: 0.810646\n"
     ]
    },
    {
     "data": {
      "image/png": "[encoded data removed]",
      "text/plain": [
       "<matplotlib.figure.Figure at 0x9d8dd635f8>"
      ]
     },
     "metadata": {},
     "output_type": "display_data"
    }
   ],
   "source": [
    "with tf.Session() as sess:\n",
    "    sess.run(init)\n",
    "    for epoch in range(training_epochs):\n",
    "        for (x,y) in zip(train_X,train_Y):\n",
    "            sess.run(optimizer,feed_dict={X:x,Y:y})\n",
    "        if (epoch+1)%display_step == 0:\n",
    "            c = sess.run(cost,feed_dict={X:train_X,Y:train_Y})\n",
    "            print('Epoch:','%04d'%(epoch+1),'cost:','{:.9f}'.format(c),'W:',sess.run(W),'b:',sess.run(b))\n",
    "    print('Optimization finished!')\n",
    "    training_cost = sess.run(cost,feed_dict={X:train_X,Y:train_Y})\n",
    "    print('Training cost:','{:.9f}'.format(training_cost),'W:',sess.run(W),'b:',sess.run(b))\n",
    "    \n",
    "    plt.plot(train_X,train_Y,'ro',label='Original data')\n",
    "    plt.plot(train_X,sess.run(W)*train_X+sess.run(b),label='Fitted line')\n",
    "    plt.legend()\n",
    "    plt.show()"
   ]
  },
  {
   "cell_type": "code",
   "execution_count": null,
   "metadata": {
    "collapsed": true
   },
   "outputs": [],
   "source": []
  }
 ],
 "metadata": {
  "kernelspec": {
   "display_name": "Python 3",
   "language": "python",
   "name": "python3"
  },
  "language_info": {
   "codemirror_mode": {
    "name": "ipython",
    "version": 3
   },
   "file_extension": ".py",
   "mimetype": "text/x-python",
   "name": "python",
   "nbconvert_exporter": "python",
   "pygments_lexer": "ipython3",
   "version": "3.5.3"
  }
 },
 "nbformat": 4,
 "nbformat_minor": 2
}
